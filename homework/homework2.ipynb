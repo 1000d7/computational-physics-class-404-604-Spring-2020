{
 "cells": [
  {
   "cell_type": "code",
   "execution_count": 50,
   "metadata": {},
   "outputs": [],
   "source": [
    "import numpy as np \n",
    "import matplotlib.pyplot as plt\n",
    "\n",
    "\n",
    "def quad1(a, b, c):\n",
    "    \n",
    "    x0 = (-b + np.sqrt(b**2 - 4*a*c))/(a*2)\n",
    "    x1 = (-b - np.sqrt(b**2 - 4*a*c))/(a*2)\n",
    "    \n",
    "    return x0, x1\n",
    "\n",
    "def quad2(a, b, c):\n",
    "    x0 = -2*c/(b + np.sqrt(b**2 - 4 * a * c ))\n",
    "    x1 = -2*c/(b - np.sqrt(b**2 - 4 * a * c ))\n",
    "    \n",
    "    return x0, x1"
   ]
  },
  {
   "cell_type": "code",
   "execution_count": 53,
   "metadata": {
    "scrolled": true
   },
   "outputs": [
    {
     "name": "stdout",
     "output_type": "stream",
     "text": [
      "i =  1\n",
      "quad1 x0:  -0.1127016653792583\n",
      "quad1 x1:  -0.8872983346207417\n",
      "quad2 x0:  -0.11270166537925831\n",
      "quad2 x1:  -0.8872983346207418\n",
      "i =  2\n",
      "quad1 x0:  -0.010102051443364402\n",
      "quad1 x1:  -0.9898979485566356\n",
      "quad2 x0:  -0.01010205144336438\n",
      "quad2 x1:  -0.9898979485566336\n",
      "i =  3\n",
      "quad1 x0:  -0.0010010020050140178\n",
      "quad1 x1:  -0.998998997994986\n",
      "quad2 x0:  -0.001001002005014042\n",
      "quad2 x1:  -0.9989989979950102\n",
      "i =  4\n",
      "quad1 x0:  -0.00010001000200049459\n",
      "quad1 x1:  -0.9998999899979994\n",
      "quad2 x0:  -0.00010001000200050015\n",
      "quad2 x1:  -0.9998999899980551\n",
      "i =  5\n",
      "quad1 x0:  -1.0000100002016676e-05\n",
      "quad1 x1:  -0.9999899998999979\n",
      "quad2 x0:  -1.000010000200005e-05\n",
      "quad2 x1:  -0.9999899998983355\n",
      "i =  6\n",
      "quad1 x0:  -1.000001000006634e-06\n",
      "quad1 x1:  -0.999998999999\n",
      "quad2 x0:  -1.000001000002e-06\n",
      "quad2 x1:  -0.999998999994366\n",
      "i =  7\n",
      "quad1 x0:  -1.0000000999488279e-07\n",
      "quad1 x1:  -0.99999989999999\n",
      "quad2 x0:  -1.00000010000002e-07\n",
      "quad2 x1:  -0.9999999000511821\n",
      "i =  8\n",
      "quad1 x0:  -1.0000000105758744e-08\n",
      "quad1 x1:  -0.9999999899999998\n",
      "quad2 x0:  -1.0000000100000004e-08\n",
      "quad2 x1:  -0.9999999894241257\n",
      "i =  9\n",
      "quad1 x0:  -1.0000000272292198e-09\n",
      "quad1 x1:  -0.9999999989999999\n",
      "quad2 x0:  -1.0000000010000002e-09\n",
      "quad2 x1:  -0.999999972770781\n",
      "i =  10\n",
      "quad1 x0:  -1.000000082740371e-10\n",
      "quad1 x1:  -0.9999999999\n",
      "quad2 x0:  -1.0000000001000001e-10\n",
      "quad2 x1:  -0.9999999172596359\n",
      "i =  11\n",
      "quad1 x0:  -1.000000082740371e-11\n",
      "quad1 x1:  -0.99999999999\n",
      "quad2 x0:  -1.00000000001e-11\n",
      "quad2 x1:  -0.9999999172596358\n",
      "i =  12\n",
      "quad1 x0:  -1.0000333894311098e-12\n",
      "quad1 x1:  -0.9999999999989999\n",
      "quad2 x0:  -1.000000000001e-12\n",
      "quad2 x1:  -0.9999666116837072\n",
      "i =  13\n",
      "quad1 x0:  -1.000310945187266e-13\n",
      "quad1 x1:  -0.9999999999999\n",
      "quad2 x0:  -1.0000000000001001e-13\n",
      "quad2 x1:  -0.9996891514695885\n",
      "i =  14\n",
      "quad1 x0:  -9.992007221626409e-15\n",
      "quad1 x1:  -0.99999999999999\n",
      "quad2 x0:  -1.00000000000001e-14\n",
      "quad2 x1:  -1.0007999171934436\n",
      "i =  15\n",
      "quad1 x0:  -9.992007221626409e-16\n",
      "quad1 x1:  -0.999999999999999\n",
      "quad2 x0:  -1.000000000000001e-15\n",
      "quad2 x1:  -1.0007999171934436\n",
      "i =  16\n",
      "quad1 x0:  -1.1102230246251565e-16\n",
      "quad1 x1:  -0.9999999999999999\n",
      "quad2 x0:  -1.0000000000000001e-16\n",
      "quad2 x1:  -0.9007199254740992\n",
      "i =  17\n",
      "quad1 x0:  0.0\n",
      "quad1 x1:  -1.0\n",
      "quad2 x0:  -1e-17\n",
      "quad2 x1:  -inf\n"
     ]
    },
    {
     "name": "stderr",
     "output_type": "stream",
     "text": [
      "/home/daniel/.local/lib/python3.6/site-packages/ipykernel_launcher.py:14: RuntimeWarning: divide by zero encountered in double_scalars\n",
      "  \n"
     ]
    }
   ],
   "source": [
    "a = b = 1\n",
    "\n",
    "x0 = []\n",
    "x1 = []\n",
    "x2 = []\n",
    "x3 = []\n",
    "\n",
    "for i in range(1, 18):\n",
    "    _x0, _x1 = quad1(a, b, 1*10**(-i))\n",
    "    _x2, _x3 = quad2(a, b, 1*10**(-i))\n",
    "    x0.append(_x0)\n",
    "    x1.append(_x1)\n",
    "    x2.append(_x2)\n",
    "    x3.append(_x3)\n",
    "    print('i = ', i)\n",
    "    print(\"quad1 x0: \", _x0)\n",
    "    print(\"quad1 x1: \", _x1)\n",
    "    print(\"quad2 x0: \", _x2)\n",
    "    print(\"quad2 x1: \", _x3)\n",
    "    \n",
    "    \n",
    "    \n",
    "\n"
   ]
  },
  {
   "cell_type": "markdown",
   "metadata": {},
   "source": [
    "<font size=\"5\">Machine precision reached at 1 * 10 ** 16\n",
    "or i = 16.\n",
    "\n",
    "Using binomial aprox. to find analyitic solution for x-intercepts \n",
    "\n",
    "\\begin{equation*}\n",
    "\\sqrt{1 + 4c} = (1 + 2c) \n",
    "\\end{equation*}\n",
    "\n",
    "therefore\n",
    "\n",
    "for quad1:\n",
    "\n",
    "\\begin{equation*}\n",
    "x_{0} = \\frac{-1 + (1 - 2c) }{ 2} = -c \\\\\n",
    "\\end{equation*}\n",
    "\n",
    "\\begin{equation*}\n",
    "x_{1} = \\frac{-1 - (1 - 2c) }{2} = c - 1 \\\\\n",
    "\\end{equation*}\n",
    "\n",
    "for quad2:\n",
    "\\begin{equation*}\n",
    "x_{0} = \\frac{-2c}{1 +(1-2c)} = \\frac{-c}{1-c} \\\\\n",
    "\\end{equation*}\n",
    "\n",
    "\\begin{equation*}\n",
    "x_{1} = \\frac{-2c}{1-(1-2c)} = - 1 \\\\\n",
    "\\end{equation*}\n",
    "\n",
    "</font>"
   ]
  },
  {
   "cell_type": "code",
   "execution_count": 80,
   "metadata": {},
   "outputs": [],
   "source": [
    "def theo1x0(c):\n",
    "    return -c\n",
    "def theo1x1(c):\n",
    "    return(c-1)\n",
    "def theo2x0(c):\n",
    "    return -c/(1-c)\n",
    "def theo2x1(c):\n",
    "    return -1"
   ]
  },
  {
   "cell_type": "code",
   "execution_count": 81,
   "metadata": {},
   "outputs": [],
   "source": [
    "# arrays for analytic solutions\n",
    "t1x0 = []\n",
    "t1x1 = []\n",
    "t2x0 = []\n",
    "t2x1 = []\n",
    "\n",
    "# arrays for numerical solutions\n",
    "n1x0 = []\n",
    "n1x1 = []\n",
    "n2x0 = []\n",
    "n2x1 = []\n",
    "\n",
    "# arrays for relative errors\n",
    "resid1x0 = []\n",
    "resid1x1 = []\n",
    "resid2x0 = []\n",
    "resid2x1 = []\n",
    "\n",
    "carr = []\n",
    "\n",
    "for i in range(1, 17):\n",
    "    c = 10 ** (-i)\n",
    "    carr.append(c)\n",
    "    \n",
    "    t1x0.append(theo1x0(c))\n",
    "    t1x1.append(theo1x1(c))    \n",
    "    t2x0.append(theo2x0(c))    \n",
    "    t2x1.append(theo2x1(c))\n",
    "    \n",
    "    _x0, _x1 = quad1(a, b, 1*10**(-i))\n",
    "    _x2, _x3 = quad2(a, b, 1*10**(-i))\n",
    "    n1x0.append(_x0)\n",
    "    n1x1.append(_x1)    \n",
    "    n2x0.append(_x2)    \n",
    "    n2x1.append(_x3)\n",
    "    \n",
    "    resid1x0.append(np.abs((theo1x0(c) - _x0)/theo1x0(c)))\n",
    "    resid1x1.append(np.abs((theo1x1(c) - _x1)/theo1x1(c)))\n",
    "    resid2x0.append(np.abs((theo2x0(c) - _x2)/theo2x0(c)))\n",
    "    resid2x1.append(np.abs((theo2x1(c) - _x3)/theo2x1(c)))"
   ]
  },
  {
   "cell_type": "code",
   "execution_count": 84,
   "metadata": {},
   "outputs": [
    {
     "data": {
      "text/plain": [
       "<matplotlib.legend.Legend at 0x7f8238a855c0>"
      ]
     },
     "execution_count": 84,
     "metadata": {},
     "output_type": "execute_result"
    },
    {
     "data": {
      "image/png": "[encoded data removed]",
      "text/plain": [
       "<Figure size 432x288 with 1 Axes>"
      ]
     },
     "metadata": {},
     "output_type": "display_data"
    }
   ],
   "source": [
    "plt.plot(carr, resid1x0)\n",
    "plt.plot(carr, resid1x1)\n",
    "plt.xscale('log')\n",
    "plt.yscale('log')\n",
    "plt.title('quadratic eq 1 (quad1())')\n",
    "plt.xlabel('c')\n",
    "plt.ylabel('error')\n",
    "plt.legend(['x0','x1'])\n"
   ]
  },
  {
   "cell_type": "code",
   "execution_count": 86,
   "metadata": {},
   "outputs": [
    {
     "data": {
      "text/plain": [
       "<matplotlib.legend.Legend at 0x7f8238c48438>"
      ]
     },
     "execution_count": 86,
     "metadata": {},
     "output_type": "execute_result"
    },
    {
     "data": {
      "image/png": "[encoded data removed]",
      "text/plain": [
       "<Figure size 432x288 with 1 Axes>"
      ]
     },
     "metadata": {},
     "output_type": "display_data"
    }
   ],
   "source": [
    "plt.plot(carr, resid2x0)\n",
    "plt.plot(carr, resid2x1)\n",
    "plt.xscale('log')\n",
    "plt.yscale('log')\n",
    "plt.title('quadratic eq 2 (quad2())')\n",
    "plt.xlabel('c')\n",
    "plt.ylabel('error')\n",
    "plt.legend(['x0','x1'])\n"
   ]
  },
  {
   "cell_type": "code",
   "execution_count": null,
   "metadata": {},
   "outputs": [],
   "source": []
  }
 ],
 "metadata": {
  "kernelspec": {
   "display_name": "Python 3",
   "language": "python",
   "name": "python3"
  },
  "language_info": {
   "codemirror_mode": {
    "name": "ipython",
    "version": 3
   },
   "file_extension": ".py",
   "mimetype": "text/x-python",
   "name": "python",
   "nbconvert_exporter": "python",
   "pygments_lexer": "ipython3",
   "version": "3.6.8"
  }
 },
 "nbformat": 4,
 "nbformat_minor": 2
}
