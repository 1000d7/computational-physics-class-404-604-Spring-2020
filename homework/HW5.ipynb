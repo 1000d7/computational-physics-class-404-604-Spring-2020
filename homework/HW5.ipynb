{
 "cells": [
  {
   "cell_type": "code",
   "execution_count": 1,
   "metadata": {
    "scrolled": false
   },
   "outputs": [],
   "source": [
    "# Runge-Kutta scheme to calculate the orbit of two equal mass binary with ecentricity of 1.\n",
    "import numpy as np\n",
    "import matplotlib.pyplot as plt\n"
   ]
  },
  {
   "cell_type": "markdown",
   "metadata": {},
   "source": [
    "\n",
    "## The force function returns an array of updated velocities and accelerations for the x and y component of each mass. The force due to acceleration being oposite but equal\n",
    "$$ F_{12}m = -F_{21}m $$\n",
    "## components of f array\n",
    "\\begin{eqnarray}\n",
    "\\frac{d x_1}{dt}=v_{x_1}\\\\\n",
    "\\frac{d v_{x_1}}{dt}=-\\frac{GM}{r^3}x_1\\\\\n",
    "\\frac{d y_1}{dt}=v_{y_1}\\\\\n",
    "\\frac{d v_{y_1}}{dt}=-\\frac{GM}{r^3}y_1\\\\\n",
    "\\frac{d x_2}{dt}=v_{x_2}\\\\\n",
    "\\frac{d v_{x_2}}{dt}=\\frac{GM}{r^3}x_2\\\\\n",
    "\\frac{d y_2}{dt}=v_{y_2}\\\\\n",
    "\\frac{d v_{y_2}}{dt}=\\frac{GM}{r^3}y_2\n",
    "\\end{eqnarray}"
   ]
  },
  {
   "cell_type": "code",
   "execution_count": 2,
   "metadata": {},
   "outputs": [],
   "source": [
    "def f(y):\n",
    "    \"\"\"\n",
    "    params:\n",
    "    y: array of positions and velocities\n",
    "    returns:\n",
    "    f: array of updated velocities and accelerations\n",
    "    \"\"\"\n",
    "    f = np.zeros(8)\n",
    "    r = np.sqrt((y[0] - y[4])**2 +(y[2] - y[6])**2)\n",
    "    # mass M\n",
    "    f[0] = y[1]\n",
    "    f[1] = -G * M / r**3 * (y[0] - y[4])\n",
    "    f[2] = y[3]\n",
    "    f[3] = -G * M / r**3 * (y[2] - y[6])\n",
    "    # mass m\n",
    "    f[4] = y[5]\n",
    "    f[5] = G * M / r**3 * (y[0] - y[4])\n",
    "    f[6] = y[7]\n",
    "    f[7] = G*M / r**3 * (y[2] - y[6])\n",
    "    return f\n",
    "\n",
    "def rk4(h, y, n):\n",
    "    \"\"\"\n",
    "    runga kutta method for solving ode\n",
    "    \"\"\"\n",
    "    k1 = np.zeros(n)\n",
    "    k2 = np.zeros(n)\n",
    "    k3 = np.zeros(n)\n",
    "    k4 = np.zeros(n)\n",
    "    k1=h*f(y)\n",
    "    k2=h*f(y+0.5*k1)\n",
    "    k3=h*f(y+0.5*k2)\n",
    "    k4=h*f(y+k3)\n",
    "    y+=(k1+2.*(k2+k3)+k4)/6.\n",
    "    return y\n"
   ]
  },
  {
   "cell_type": "code",
   "execution_count": 3,
   "metadata": {},
   "outputs": [
    {
     "data": {
      "image/png": "[encoded data removed]",
      "text/plain": [
       "<Figure size 360x360 with 1 Axes>"
      ]
     },
     "metadata": {},
     "output_type": "display_data"
    },
    {
     "data": {
      "image/png": "[encoded data removed]",
      "text/plain": [
       "<Figure size 360x360 with 1 Axes>"
      ]
     },
     "metadata": {},
     "output_type": "display_data"
    }
   ],
   "source": [
    "\n",
    "### Initial conditions ###\n",
    "G=1.\n",
    "M=1.\n",
    "m = 1\n",
    "tend=2.*np.pi \n",
    "h=0.001 # step size\n",
    "vscaler = 1 # scalar for velocity\n",
    "y=[.5,0.,0.,vscaler * 1/(np.sqrt(2)), -.5, 0., 0., vscaler * -1/(np.sqrt(2)) ] # initial positions and velocities\n",
    "t=0\n",
    "###########################\n",
    "\n",
    "\n",
    "xp=[]\n",
    "yp=[]\n",
    "xp1 = []\n",
    "yp1 = []\n",
    "ta=[]\n",
    "while(t<tend):\n",
    "    if((t+h)>tend):\n",
    "        h=tend-t\n",
    "    y = rk4(h,y,8)\n",
    "    xp=np.append(xp,y[0])\n",
    "    yp=np.append(yp,y[2])\n",
    "    xp1=np.append(xp1,y[4])\n",
    "    yp1=np.append(yp1,y[6])\n",
    "    ta=np.append(ta,t)\n",
    "    t = t+h\n",
    "\n",
    "i = xp1.size - 1\n",
    "plt.figure(figsize=(5,5))\n",
    "plt.plot(xp,yp,'b--')\n",
    "xpp = xp[i]\n",
    "ypp = yp[i]\n",
    "plt.scatter(xpp,ypp, marker='o', s=400, c = 'b')\n",
    "plt.show()\n",
    "\n",
    "xp1p = xp1[i]\n",
    "yp1p = yp1[i]\n",
    "plt.figure(figsize=(5,5))\n",
    "plt.plot(xp1,yp1, 'r--')\n",
    "plt.scatter(xp1p,yp1p, marker='o', s=400, c = 'r')\n",
    "plt.show()"
   ]
  },
  {
   "cell_type": "code",
   "execution_count": 4,
   "metadata": {
    "scrolled": true
   },
   "outputs": [
    {
     "data": {
      "application/javascript": [
       "require.undef(\"nbextensions/vpython_libraries/glow.min\");"
      ],
      "text/plain": [
       "<IPython.core.display.Javascript object>"
      ]
     },
     "metadata": {},
     "output_type": "display_data"
    },
    {
     "data": {
      "application/javascript": [
       "require.undef(\"nbextensions/vpython_libraries/glowcomm\");"
      ],
      "text/plain": [
       "<IPython.core.display.Javascript object>"
      ]
     },
     "metadata": {},
     "output_type": "display_data"
    },
    {
     "data": {
      "application/javascript": [
       "require.undef(\"nbextensions/vpython_libraries/jquery-ui.custom.min\");"
      ],
      "text/plain": [
       "<IPython.core.display.Javascript object>"
      ]
     },
     "metadata": {},
     "output_type": "display_data"
    },
    {
     "data": {
      "application/javascript": [
       "require([\"nbextensions/vpython_libraries/glow.min\"], function(){console.log(\"GLOW LOADED\");})"
      ],
      "text/plain": [
       "<IPython.core.display.Javascript object>"
      ]
     },
     "metadata": {},
     "output_type": "display_data"
    },
    {
     "data": {
      "application/javascript": [
       "require([\"nbextensions/vpython_libraries/glowcomm\"], function(){console.log(\"GLOWCOMM LOADED\");})"
      ],
      "text/plain": [
       "<IPython.core.display.Javascript object>"
      ]
     },
     "metadata": {},
     "output_type": "display_data"
    },
    {
     "data": {
      "application/javascript": [
       "require([\"nbextensions/vpython_libraries/jquery-ui.custom.min\"], function(){console.log(\"JQUERY LOADED\");})"
      ],
      "text/plain": [
       "<IPython.core.display.Javascript object>"
      ]
     },
     "metadata": {},
     "output_type": "display_data"
    },
    {
     "data": {
      "text/html": [
       "<div id=\"glowscript\" class=\"glowscript\"></div>"
      ],
      "text/plain": [
       "<IPython.core.display.HTML object>"
      ]
     },
     "metadata": {},
     "output_type": "display_data"
    },
    {
     "data": {
      "application/javascript": [
       "window.__context = { glowscript_container: $(\"#glowscript\").removeAttr(\"id\")}"
      ],
      "text/plain": [
       "<IPython.core.display.Javascript object>"
      ]
     },
     "metadata": {},
     "output_type": "display_data"
    }
   ],
   "source": [
    "from vpython import *\n",
    "\n",
    "m1 = sphere(pos=vector(.5,0,0), radius=.10, color=color.blue, make_trail=True, interval=10, retain=100)\n",
    "m2 = sphere(pos=vector(-.5,0,0), radius=.10, color=color.red, make_trail=True, interval=10, retain=100)\n",
    "\n",
    "\n",
    "\n",
    "i = 0\n",
    "while True:\n",
    "    rate(200)\n",
    "    if i < xp.size:\n",
    "        \n",
    "        m1.pos = vector(xp[i], yp[i],0)\n",
    "        m2.pos = vector(xp1[i],yp1[i],0)\n",
    "        i+=1\n",
    "    else:\n",
    "        break\n",
    "\n"
   ]
  },
  {
   "cell_type": "code",
   "execution_count": null,
   "metadata": {},
   "outputs": [],
   "source": []
  }
 ],
 "metadata": {
  "kernelspec": {
   "display_name": "VPython",
   "language": "python",
   "name": "vpython"
  },
  "language_info": {
   "codemirror_mode": {
    "name": "ipython",
    "version": 3
   },
   "file_extension": ".py",
   "mimetype": "text/x-python",
   "name": "python",
   "nbconvert_exporter": "python",
   "pygments_lexer": "ipython3",
   "version": "3.6.8"
  }
 },
 "nbformat": 4,
 "nbformat_minor": 2
}
