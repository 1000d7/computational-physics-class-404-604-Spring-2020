{
 "cells": [
  {
   "cell_type": "code",
   "execution_count": 41,
   "metadata": {
    "scrolled": false
   },
   "outputs": [
    {
     "name": "stdout",
     "output_type": "stream",
     "text": [
      "time loop =  0.0006918907165527344\n",
      "time recursive =  0.0008513927459716797\n"
     ]
    },
    {
     "data": {
      "application/vnd.jupyter.widget-view+json": {
       "model_id": "e677765d4a3647498b5c195b8d014792",
       "version_major": 2,
       "version_minor": 0
      },
      "text/plain": [
       "FigureCanvasNbAgg()"
      ]
     },
     "metadata": {},
     "output_type": "display_data"
    }
   ],
   "source": [
    "# Author: Daniel Schacher\n",
    "# Date: 01/27/20\n",
    "# Homework 1 for phys 404\n",
    "\n",
    "import numpy as np\n",
    "import matplotlib.pyplot as plt\n",
    "import matplotlib.ticker as tck\n",
    "import time\n",
    "%matplotlib widget\n",
    "\n",
    "def function(n, x):\n",
    "    # function computes forier series with for loop using params n, x\n",
    "    u = 0\n",
    "    for i in range(n):\n",
    "        if i%2 != 0:\n",
    "            u += np.sin(i*x)/i\n",
    "    return ((np.pi/2) + (2*u))\n",
    "\n",
    "\n",
    "def rf(n, x):\n",
    "    # function computes fourier series with recursion using params n, x\n",
    "    if n == 0:\n",
    "        return np.pi/2 \n",
    "    elif n%2 == 0:\n",
    "        return(rf(n-1,x))\n",
    "    else:\n",
    "        return(2*(np.sin(x*n)/n)+rf(n-1,x))\n",
    "\n",
    "\n",
    "x = np.linspace(-np.pi, np.pi,100)\n",
    "\n",
    "start = time.time()\n",
    "y0 = function(11, x)\n",
    "y1 = function(21, x)\n",
    "y2 = function(31, x)\n",
    "end = time.time()\n",
    "print('time loop = ', end - start)\n",
    "\n",
    "start = time.time()\n",
    "y3 = rf(11, x)\n",
    "y4 = rf(21, x)\n",
    "y5 = rf(31, x)\n",
    "end = time.time()\n",
    "print('time recursive = ', end - start)\n",
    "\n",
    "ax1 = plt.subplot(1,2,1)\n",
    "plt.title(\"for loop\")\n",
    "plt.plot(x, y0)\n",
    "plt.plot(x, y1)\n",
    "plt.plot(x, y2)\n",
    "ax1.legend(['n = 11','n = 21', 'n = 31'])\n",
    "ax1.xaxis.set_major_formatter(tck.FormatStrFormatter('%g $\\pi$'))\n",
    "ax1.xaxis.set_major_locator(tck.MultipleLocator(base=1.0))\n",
    "\n",
    "ax = plt.subplot(1,2,2)\n",
    "plt.title(\"recursive function\")\n",
    "plt.plot(x, y3)\n",
    "plt.plot(x, y4)\n",
    "plt.plot(x, y5)\n",
    "ax.legend(['n = 11','n = 21', 'n = 31'])\n",
    "ax.xaxis.set_major_formatter(tck.FormatStrFormatter('%g $\\pi$'))\n",
    "ax.xaxis.set_major_locator(tck.MultipleLocator(base=1.0))\n"
   ]
  },
  {
   "cell_type": "code",
   "execution_count": null,
   "metadata": {},
   "outputs": [],
   "source": []
  },
  {
   "cell_type": "code",
   "execution_count": null,
   "metadata": {},
   "outputs": [],
   "source": []
  }
 ],
 "metadata": {
  "kernelspec": {
   "display_name": "VPython",
   "language": "python",
   "name": "vpython"
  },
  "language_info": {
   "codemirror_mode": {
    "name": "ipython",
    "version": 3
   },
   "file_extension": ".py",
   "mimetype": "text/x-python",
   "name": "python",
   "nbconvert_exporter": "python",
   "pygments_lexer": "ipython3",
   "version": "3.6.8"
  }
 },
 "nbformat": 4,
 "nbformat_minor": 2
}
